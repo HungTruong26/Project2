{
 "cells": [
  {
   "cell_type": "code",
   "execution_count": 1,
   "id": "6f2e4466-b028-445c-9fc0-f1e88aadd5f7",
   "metadata": {},
   "outputs": [],
   "source": [
    "import tensorflow as tf\n",
    "from tensorflow import keras\n",
    "from sklearn.model_selection import train_test_split \n",
    "import matplotlib.pyplot as plt\n",
    "import cv2\n",
    "import pandas as pd\n",
    "import os\n",
    "import numpy as np\n",
    "from keras.utils import to_categorical \n",
    "from keras.models import Sequential \n",
    "from keras.layers import Conv2D, MaxPool2D, Dense, Flatten, Dropout"
   ]
  },
  {
   "cell_type": "markdown",
   "id": "da6fcb52-f9c4-4c5c-b0b5-c23be9807124",
   "metadata": {},
   "source": [
    "Chuẩn bị dữ liệu"
   ]
  },
  {
   "cell_type": "code",
   "execution_count": 2,
   "id": "9bce5f32-22e6-4bf6-8125-ec9daffb189d",
   "metadata": {
    "tags": []
   },
   "outputs": [],
   "source": [
    "data = []\n",
    "labels = []\n",
    "classes = 43\n",
    "# Thư mục hiện tại\n",
    "cpath = os.getcwd()\n",
    "\n",
    "for i in range(classes):\n",
    "    path = cpath + \"\\\\Data\\\\Train\\\\\" + str(i)\n",
    "    images = os.listdir(path)  \n",
    "    for a in images:\n",
    "        img = cv2.imread(path + '\\\\' + a)\n",
    "        img = cv2.resize(img,(30,30))\n",
    "        img = np.array(img)\n",
    "        data.append(img)\n",
    "        labels.append(i)\n",
    "        \n",
    "data = np.array(data)\n",
    "labels = np.array(labels)\n"
   ]
  },
  {
   "cell_type": "code",
   "execution_count": 3,
   "id": "e3d2731c-acd4-4521-937c-03637ec9e988",
   "metadata": {},
   "outputs": [
    {
     "name": "stdout",
     "output_type": "stream",
     "text": [
      "(39209, 30, 30, 3) (39209,)\n"
     ]
    }
   ],
   "source": [
    "print(data.shape, labels.shape)"
   ]
  },
  {
   "cell_type": "markdown",
   "id": "8a2cb220-aa12-43c3-b36b-7719a2cc8644",
   "metadata": {},
   "source": [
    "Chia training set và testing set\n"
   ]
  },
  {
   "cell_type": "code",
   "execution_count": 4,
   "id": "2562ba85-6ef7-4e69-ab10-9b587b02dff9",
   "metadata": {},
   "outputs": [],
   "source": [
    "X_train, X_val, y_train, y_val = train_test_split(data, labels, test_size=0.2, random_state=42)"
   ]
  },
  {
   "cell_type": "code",
   "execution_count": 5,
   "id": "2a799084-8757-4d6f-9046-58acbbcfbb34",
   "metadata": {},
   "outputs": [
    {
     "name": "stdout",
     "output_type": "stream",
     "text": [
      "(31367, 30, 30, 3) (7842, 30, 30, 3) (31367,) (7842,)\n"
     ]
    }
   ],
   "source": [
    "print(X_train.shape, X_val.shape, y_train.shape, y_val.shape)"
   ]
  },
  {
   "cell_type": "code",
   "execution_count": 6,
   "id": "26ce27ad-8a7c-4cd8-abdc-3a161156cb60",
   "metadata": {},
   "outputs": [
    {
     "data": {
      "text/plain": [
       "(31367, 43)"
      ]
     },
     "execution_count": 6,
     "metadata": {},
     "output_type": "execute_result"
    }
   ],
   "source": [
    "y_train = to_categorical(y_train, 43)\n",
    "y_val = to_categorical(y_val, 43)\n",
    "\n",
    "y_train.shape"
   ]
  },
  {
   "cell_type": "markdown",
   "id": "186c91fc-c4d2-4583-ab50-8fc652168577",
   "metadata": {},
   "source": [
    "Build CNN model"
   ]
  },
  {
   "cell_type": "code",
   "execution_count": 7,
   "id": "4d2bc26b-5337-4f33-8e58-3baf0a1b71db",
   "metadata": {
    "tags": []
   },
   "outputs": [
    {
     "name": "stdout",
     "output_type": "stream",
     "text": [
      "Model: \"sequential\"\n",
      "_________________________________________________________________\n",
      " Layer (type)                Output Shape              Param #   \n",
      "=================================================================\n",
      " conv2d (Conv2D)             (None, 26, 26, 32)        2432      \n",
      "                                                                 \n",
      " conv2d_1 (Conv2D)           (None, 22, 22, 32)        25632     \n",
      "                                                                 \n",
      " max_pooling2d (MaxPooling2D  (None, 11, 11, 32)       0         \n",
      " )                                                               \n",
      "                                                                 \n",
      " dropout (Dropout)           (None, 11, 11, 32)        0         \n",
      "                                                                 \n",
      " conv2d_2 (Conv2D)           (None, 9, 9, 64)          18496     \n",
      "                                                                 \n",
      " conv2d_3 (Conv2D)           (None, 7, 7, 64)          36928     \n",
      "                                                                 \n",
      " max_pooling2d_1 (MaxPooling  (None, 3, 3, 64)         0         \n",
      " 2D)                                                             \n",
      "                                                                 \n",
      " dropout_1 (Dropout)         (None, 3, 3, 64)          0         \n",
      "                                                                 \n",
      " flatten (Flatten)           (None, 576)               0         \n",
      "                                                                 \n",
      " dense (Dense)               (None, 256)               147712    \n",
      "                                                                 \n",
      " dropout_2 (Dropout)         (None, 256)               0         \n",
      "                                                                 \n",
      " dense_1 (Dense)             (None, 43)                11051     \n",
      "                                                                 \n",
      "=================================================================\n",
      "Total params: 242,251\n",
      "Trainable params: 242,251\n",
      "Non-trainable params: 0\n",
      "_________________________________________________________________\n"
     ]
    }
   ],
   "source": [
    "model = Sequential()\n",
    "model.add(Conv2D(filters=32, kernel_size=(5,5), activation='relu', input_shape=X_train.shape[1:]))\n",
    "model.add(Conv2D(filters=32, kernel_size=(5,5), activation='relu'))\n",
    "model.add(MaxPool2D(pool_size=(2, 2)))\n",
    "model.add(Dropout(rate=0.25))\n",
    "model.add(Conv2D(filters=64, kernel_size=(3, 3), activation='relu'))\n",
    "model.add(Conv2D(filters=64, kernel_size=(3, 3), activation='relu'))\n",
    "model.add(MaxPool2D(pool_size=(2, 2)))\n",
    "model.add(Dropout(rate=0.25))\n",
    "model.add(Flatten())\n",
    "model.add(Dense(256, activation='relu'))\n",
    "model.add(Dropout(rate=0.5))\n",
    "model.add(Dense(43, activation='softmax'))\n",
    "model.summary()\n",
    "#Compilation of the model\n",
    "model.compile(loss='categorical_crossentropy', optimizer='adam', metrics=['accuracy'])"
   ]
  },
  {
   "cell_type": "markdown",
   "id": "dc41aeb9-9eb4-499d-9915-bec10c922ed8",
   "metadata": {},
   "source": [
    "Train model"
   ]
  },
  {
   "cell_type": "code",
   "execution_count": 8,
   "id": "aad85b0d-abb1-4cbc-b647-4a7bd3c318cf",
   "metadata": {},
   "outputs": [
    {
     "name": "stdout",
     "output_type": "stream",
     "text": [
      "Epoch 1/15\n",
      "491/491 [==============================] - 43s 86ms/step - loss: 2.3205 - accuracy: 0.3998 - val_loss: 1.1109 - val_accuracy: 0.6996\n",
      "Epoch 2/15\n",
      "491/491 [==============================] - 41s 84ms/step - loss: 0.8869 - accuracy: 0.7318 - val_loss: 0.2714 - val_accuracy: 0.9244\n",
      "Epoch 3/15\n",
      "491/491 [==============================] - 44s 89ms/step - loss: 0.5071 - accuracy: 0.8456 - val_loss: 0.2197 - val_accuracy: 0.9467\n",
      "Epoch 4/15\n",
      "491/491 [==============================] - 62s 127ms/step - loss: 0.3551 - accuracy: 0.8931 - val_loss: 0.1560 - val_accuracy: 0.9588\n",
      "Epoch 5/15\n",
      "491/491 [==============================] - 55s 112ms/step - loss: 0.2844 - accuracy: 0.9157 - val_loss: 0.1210 - val_accuracy: 0.9634\n",
      "Epoch 6/15\n",
      "491/491 [==============================] - 51s 105ms/step - loss: 0.2499 - accuracy: 0.9244 - val_loss: 0.1145 - val_accuracy: 0.9670\n",
      "Epoch 7/15\n",
      "491/491 [==============================] - 52s 106ms/step - loss: 0.2247 - accuracy: 0.9353 - val_loss: 0.0664 - val_accuracy: 0.9828\n",
      "Epoch 8/15\n",
      "491/491 [==============================] - 46s 93ms/step - loss: 0.2157 - accuracy: 0.9390 - val_loss: 0.0588 - val_accuracy: 0.9864\n",
      "Epoch 9/15\n",
      "491/491 [==============================] - 46s 93ms/step - loss: 0.1879 - accuracy: 0.9456 - val_loss: 0.0818 - val_accuracy: 0.9781\n",
      "Epoch 10/15\n",
      "491/491 [==============================] - 45s 92ms/step - loss: 0.1922 - accuracy: 0.9453 - val_loss: 0.0504 - val_accuracy: 0.9855\n",
      "Epoch 11/15\n",
      "491/491 [==============================] - 45s 92ms/step - loss: 0.1675 - accuracy: 0.9534 - val_loss: 0.0612 - val_accuracy: 0.9829\n",
      "Epoch 12/15\n",
      "491/491 [==============================] - 45s 92ms/step - loss: 0.1753 - accuracy: 0.9514 - val_loss: 0.0898 - val_accuracy: 0.9748\n",
      "Epoch 13/15\n",
      "491/491 [==============================] - 45s 93ms/step - loss: 0.1791 - accuracy: 0.9500 - val_loss: 0.0410 - val_accuracy: 0.9895\n",
      "Epoch 14/15\n",
      "491/491 [==============================] - 45s 92ms/step - loss: 0.1556 - accuracy: 0.9572 - val_loss: 0.0444 - val_accuracy: 0.9892\n",
      "Epoch 15/15\n",
      "491/491 [==============================] - 46s 94ms/step - loss: 0.1484 - accuracy: 0.9589 - val_loss: 0.0544 - val_accuracy: 0.9853\n"
     ]
    }
   ],
   "source": [
    "anc = model.fit(X_train, y_train, batch_size=64, epochs=15, validation_data=(X_val, y_val))"
   ]
  },
  {
   "cell_type": "code",
   "execution_count": 9,
   "id": "591454f5-2599-48a5-a03b-27f85f091576",
   "metadata": {},
   "outputs": [],
   "source": [
    "model.save('PhanLoaiBien.h5')"
   ]
  }
 ],
 "metadata": {
  "kernelspec": {
   "display_name": "Python 3 (ipykernel)",
   "language": "python",
   "name": "python3"
  },
  "language_info": {
   "codemirror_mode": {
    "name": "ipython",
    "version": 3
   },
   "file_extension": ".py",
   "mimetype": "text/x-python",
   "name": "python",
   "nbconvert_exporter": "python",
   "pygments_lexer": "ipython3",
   "version": "3.10.9"
  }
 },
 "nbformat": 4,
 "nbformat_minor": 5
}
