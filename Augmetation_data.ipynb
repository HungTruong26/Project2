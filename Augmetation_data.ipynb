{
 "cells": [
  {
   "cell_type": "code",
   "execution_count": 6,
   "id": "8520338e-b487-45f7-8e45-f57544de0bf1",
   "metadata": {},
   "outputs": [],
   "source": [
    "import numpy as np\n",
    "import pandas as pd\n",
    "import cv2\n",
    "from sklearn.metrics import accuracy_score\n",
    "from keras.models import Sequential, load_model"
   ]
  },
  {
   "cell_type": "markdown",
   "id": "9b028db9-7f13-40c3-af8c-a34e93d52b24",
   "metadata": {},
   "source": [
    "Load model"
   ]
  },
  {
   "cell_type": "code",
   "execution_count": 2,
   "id": "3ef969f5-11e4-405d-a6fc-72fd1abb332e",
   "metadata": {},
   "outputs": [],
   "source": [
    "model = load_model('PhanLoaiBien.h5')"
   ]
  },
  {
   "cell_type": "markdown",
   "id": "b2946a50-32b0-42e2-8d1e-1299cbf34e03",
   "metadata": {
    "tags": []
   },
   "source": [
    "Gắn tên nhãn"
   ]
  },
  {
   "cell_type": "code",
   "execution_count": 3,
   "id": "b5d477c4-4668-49af-9beb-0a24f0231e7a",
   "metadata": {
    "tags": []
   },
   "outputs": [],
   "source": [
    "classes = { 1:'Speed limit (20km/h)',\n",
    "            2:'Speed limit (30km/h)',\n",
    "            3:'Speed limit (50km/h)',\n",
    "            4:'Speed limit (60km/h)',\n",
    "            5:'Speed limit (70km/h)',\n",
    "            6:'Speed limit (80km/h)',\n",
    "            7:'End of speed limit (80km/h)',\n",
    "            8:'Speed limit (100km/h)',\n",
    "            9:'Speed limit (120km/h)',\n",
    "            10:'No passing',\n",
    "            11:'No passing veh over 3.5 tons',\n",
    "            12:'Right-of-way at intersection',\n",
    "            13:'Priority road',\n",
    "            14:'Yield',\n",
    "            15:'Stop',\n",
    "            16:'No vehicles',\n",
    "            17:'Veh > 3.5 tons prohibited',\n",
    "            18:'No entry',\n",
    "            19:'General caution',\n",
    "            20:'Dangerous curve left',\n",
    "            21:'Dangerous curve right',\n",
    "            22:'Double curve',\n",
    "            23:'Bumpy road',\n",
    "            24:'Slippery road',\n",
    "            25:'Road narrows on the right',\n",
    "            26:'Road work',\n",
    "            27:'Traffic signals',\n",
    "            28:'Pedestrians',\n",
    "            29:'Children crossing',\n",
    "            30:'Bicycles crossing',\n",
    "            31:'Beware of ice/snow',\n",
    "            32:'Wild animals crossing',\n",
    "            33:'End speed + passing limits',\n",
    "            34:'Turn right ahead',\n",
    "            35:'Turn left ahead',\n",
    "            36:'Ahead only',\n",
    "            37:'Go straight or right',\n",
    "            38:'Go straight or left',\n",
    "            39:'Keep right',\n",
    "            40:'Keep left',\n",
    "            41:'Roundabout mandatory',\n",
    "            42:'End of no passing',\n",
    "            43:'End no passing veh > 3.5 tons' }\n"
   ]
  },
  {
   "cell_type": "markdown",
   "id": "70469e2a-ac5b-48ee-98ff-0ac153078b89",
   "metadata": {},
   "source": [
    "Đưa filepath ảnh cần kiểm tra"
   ]
  },
  {
   "cell_type": "code",
   "execution_count": 12,
   "id": "f956fc30-bc75-4504-bc48-b0832f60b212",
   "metadata": {
    "tags": []
   },
   "outputs": [],
   "source": [
    "path = 'Test/80test.png'\n",
    "image = cv2.imread('Data/' + path)\n",
    "image = cv2.resize(image,(30,30))\n",
    "image = np.array(image)"
   ]
  },
  {
   "cell_type": "raw",
   "id": "cffefde1-0107-4fac-94f1-dcbf91b98685",
   "metadata": {},
   "source": [
    "Dự đoán"
   ]
  },
  {
   "cell_type": "code",
   "execution_count": 13,
   "id": "8e6d1864-0171-4c25-a168-c76657403269",
   "metadata": {},
   "outputs": [
    {
     "name": "stdout",
     "output_type": "stream",
     "text": [
      "1/1 [==============================] - 0s 18ms/step\n",
      "du doan: Speed limit (80km/h)\n"
     ]
    }
   ],
   "source": [
    "image = np.expand_dims(image,axis=0)\n",
    "predict_x=model.predict(image)\n",
    "classes_x=np.argmax(predict_x,axis=1)\n",
    "print('du doan: ' + classes[(int)(classes_x)+1])"
   ]
  },
  {
   "cell_type": "markdown",
   "id": "27057bf0-1a17-43e8-89ee-1c46049ef23b",
   "metadata": {},
   "source": [
    "Đáp án đúng"
   ]
  },
  {
   "cell_type": "code",
   "execution_count": 6,
   "id": "027518bd-7dcb-4775-8b6a-1abdc68330f4",
   "metadata": {
    "collapsed": true
   },
   "outputs": [
    {
     "ename": "TypeError",
     "evalue": "cannot convert the series to <class 'int'>",
     "output_type": "error",
     "traceback": [
      "\u001b[1;31m---------------------------------------------------------------------------\u001b[0m",
      "\u001b[1;31mTypeError\u001b[0m                                 Traceback (most recent call last)",
      "Cell \u001b[1;32mIn[6], line 2\u001b[0m\n\u001b[0;32m      1\u001b[0m data \u001b[38;5;241m=\u001b[39m pd\u001b[38;5;241m.\u001b[39mread_csv(\u001b[38;5;124m'\u001b[39m\u001b[38;5;124mData/Test.csv\u001b[39m\u001b[38;5;124m'\u001b[39m)\n\u001b[1;32m----> 2\u001b[0m rslt_df \u001b[38;5;241m=\u001b[39m \u001b[38;5;28;43mint\u001b[39;49m\u001b[43m \u001b[49m\u001b[43m(\u001b[49m\u001b[43mdata\u001b[49m\u001b[43m[\u001b[49m\u001b[43mdata\u001b[49m\u001b[43m[\u001b[49m\u001b[38;5;124;43m'\u001b[39;49m\u001b[38;5;124;43mPath\u001b[39;49m\u001b[38;5;124;43m'\u001b[39;49m\u001b[43m]\u001b[49m\u001b[43m \u001b[49m\u001b[38;5;241;43m==\u001b[39;49m\u001b[43m \u001b[49m\u001b[43mpath\u001b[49m\u001b[43m]\u001b[49m\u001b[43m[\u001b[49m\u001b[38;5;124;43m'\u001b[39;49m\u001b[38;5;124;43mClassId\u001b[39;49m\u001b[38;5;124;43m'\u001b[39;49m\u001b[43m]\u001b[49m\u001b[43m)\u001b[49m\n\u001b[0;32m      3\u001b[0m \u001b[38;5;28mprint\u001b[39m(\u001b[38;5;124m'\u001b[39m\u001b[38;5;124mDap an: \u001b[39m\u001b[38;5;124m'\u001b[39m \u001b[38;5;241m+\u001b[39m classes[rslt_df \u001b[38;5;241m+\u001b[39m \u001b[38;5;241m1\u001b[39m])\n",
      "File \u001b[1;32m~\\anaconda3\\lib\\site-packages\\pandas\\core\\series.py:206\u001b[0m, in \u001b[0;36m_coerce_method.<locals>.wrapper\u001b[1;34m(self)\u001b[0m\n\u001b[0;32m    204\u001b[0m \u001b[38;5;28;01mif\u001b[39;00m \u001b[38;5;28mlen\u001b[39m(\u001b[38;5;28mself\u001b[39m) \u001b[38;5;241m==\u001b[39m \u001b[38;5;241m1\u001b[39m:\n\u001b[0;32m    205\u001b[0m     \u001b[38;5;28;01mreturn\u001b[39;00m converter(\u001b[38;5;28mself\u001b[39m\u001b[38;5;241m.\u001b[39miloc[\u001b[38;5;241m0\u001b[39m])\n\u001b[1;32m--> 206\u001b[0m \u001b[38;5;28;01mraise\u001b[39;00m \u001b[38;5;167;01mTypeError\u001b[39;00m(\u001b[38;5;124mf\u001b[39m\u001b[38;5;124m\"\u001b[39m\u001b[38;5;124mcannot convert the series to \u001b[39m\u001b[38;5;132;01m{\u001b[39;00mconverter\u001b[38;5;132;01m}\u001b[39;00m\u001b[38;5;124m\"\u001b[39m)\n",
      "\u001b[1;31mTypeError\u001b[0m: cannot convert the series to <class 'int'>"
     ]
    }
   ],
   "source": [
    "# data = pd.read_csv('Data/Test.csv')\n",
    "# rslt_df = int (data[data['Path'] == path]['ClassId'])\n",
    "# print('Dap an: ' + classes[rslt_df + 1])"
   ]
  },
  {
   "cell_type": "markdown",
   "id": "bad8810d",
   "metadata": {},
   "source": [
    "Kiểm tra độ chính xác"
   ]
  },
  {
   "cell_type": "code",
   "execution_count": 54,
   "id": "cee98cf7",
   "metadata": {},
   "outputs": [],
   "source": [
    "#Chuẩn bị dữ liệu tập test\n",
    "listTest = pd.read_csv('Data/Test.csv')\n",
    "\n",
    "n = listTest.shape[0]\n",
    "labels = []\n",
    "data = []\n",
    "imgs = listTest['Path'].values\n",
    "\n",
    "for i in range (n):\n",
    "    label = listTest.iloc[i]['ClassId']\n",
    "    image = cv2.imread('Data/' + listTest.iloc[i]['Path'])\n",
    "#     ảnh gốc\n",
    "    image = cv2.resize(image,(30,30))\n",
    "    data.append(np.array(image))\n",
    "    labels.append(np.array(label))\n",
    "#     ảnh lật trục x\n",
    "    flipImg = cv2.flip(image,0)\n",
    "    data.append(np.array(flipImg))\n",
    "    labels.append(np.array(label))\n",
    "#     xoay90 độ\n",
    "    rotate90Img = cv2.rotate(image,cv2.ROTATE_90_CLOCKWISE)\n",
    "    data.append(np.array(rotate90Img))\n",
    "    labels.append(np.array(label))\n",
    "\n",
    "X_test=np.array(data)\n",
    "Labels=np.array(labels)\n"
   ]
  },
  {
   "cell_type": "code",
   "execution_count": 55,
   "id": "1d0eb3cc",
   "metadata": {},
   "outputs": [
    {
     "name": "stdout",
     "output_type": "stream",
     "text": [
      "[16 16 16 ... 10 10 10]\n"
     ]
    }
   ],
   "source": [
    "print(Labels)"
   ]
  },
  {
   "cell_type": "code",
   "execution_count": 56,
   "id": "dd2e9220",
   "metadata": {
    "scrolled": true
   },
   "outputs": [
    {
     "name": "stdout",
     "output_type": "stream",
     "text": [
      "1185/1185 [==============================] - 8s 6ms/step\n"
     ]
    }
   ],
   "source": [
    "predict=model.predict(X_test)"
   ]
  },
  {
   "cell_type": "code",
   "execution_count": 57,
   "id": "1df6d33e",
   "metadata": {},
   "outputs": [
    {
     "name": "stdout",
     "output_type": "stream",
     "text": [
      "(37890, 43)\n"
     ]
    }
   ],
   "source": [
    "print(predict.shape)"
   ]
  },
  {
   "cell_type": "code",
   "execution_count": 58,
   "id": "8e867c0b",
   "metadata": {},
   "outputs": [],
   "source": [
    "predict=np.argmax(predict,axis=1)"
   ]
  },
  {
   "cell_type": "code",
   "execution_count": 59,
   "id": "5c8281f4",
   "metadata": {},
   "outputs": [
    {
     "name": "stdout",
     "output_type": "stream",
     "text": [
      "(37890,)\n"
     ]
    }
   ],
   "source": [
    "print(predict.shape)"
   ]
  },
  {
   "cell_type": "code",
   "execution_count": 60,
   "id": "e86732de",
   "metadata": {},
   "outputs": [
    {
     "name": "stdout",
     "output_type": "stream",
     "text": [
      "[16  7  1 ... 10  9 32]\n"
     ]
    }
   ],
   "source": [
    "print(predict)"
   ]
  },
  {
   "cell_type": "code",
   "execution_count": 61,
   "id": "1244a62c",
   "metadata": {},
   "outputs": [
    {
     "name": "stdout",
     "output_type": "stream",
     "text": [
      "0.47004486671945106\n"
     ]
    }
   ],
   "source": [
    "print(accuracy_score(Labels, predict))"
   ]
  },
  {
   "cell_type": "code",
   "execution_count": null,
   "id": "48e2bfd8",
   "metadata": {},
   "outputs": [],
   "source": []
  }
 ],
 "metadata": {
  "kernelspec": {
   "display_name": "Python 3 (ipykernel)",
   "language": "python",
   "name": "python3"
  },
  "language_info": {
   "codemirror_mode": {
    "name": "ipython",
    "version": 3
   },
   "file_extension": ".py",
   "mimetype": "text/x-python",
   "name": "python",
   "nbconvert_exporter": "python",
   "pygments_lexer": "ipython3",
   "version": "3.10.9"
  }
 },
 "nbformat": 4,
 "nbformat_minor": 5
}
