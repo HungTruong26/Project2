{
 "cells": [
  {
   "cell_type": "code",
   "execution_count": 1,
   "id": "7c592d7d",
   "metadata": {},
   "outputs": [],
   "source": [
    "import pandas as pd\n",
    "import cv2\n",
    "import numpy as np"
   ]
  },
  {
   "cell_type": "code",
   "execution_count": 2,
   "id": "fb511d4d",
   "metadata": {},
   "outputs": [],
   "source": [
    "listTest = pd.read_csv('Data/Test.csv')"
   ]
  },
  {
   "cell_type": "code",
   "execution_count": 3,
   "id": "1d4af109",
   "metadata": {},
   "outputs": [
    {
     "name": "stdout",
     "output_type": "stream",
     "text": [
      "   Width  Height  Roi.X1  Roi.Y1  Roi.X2  Roi.Y2  ClassId            Path\n",
      "0     53      54       6       5      48      49       16  Test/00000.png\n",
      "1     42      45       5       5      36      40        1  Test/00001.png\n",
      "2     48      52       6       6      43      47       38  Test/00002.png\n",
      "3     27      29       5       5      22      24       33  Test/00003.png\n",
      "4     60      57       5       5      55      52       11  Test/00004.png\n"
     ]
    }
   ],
   "source": [
    "print(listTest.head(5))"
   ]
  },
  {
   "cell_type": "code",
   "execution_count": 7,
   "id": "c700d6b8",
   "metadata": {},
   "outputs": [],
   "source": [
    "n = listTest.shape[0]"
   ]
  },
  {
   "cell_type": "code",
   "execution_count": 10,
   "id": "6115bd58",
   "metadata": {},
   "outputs": [
    {
     "name": "stdout",
     "output_type": "stream",
     "text": [
      "<class 'int'>\n"
     ]
    }
   ],
   "source": [
    "print(type(n))"
   ]
  },
  {
   "cell_type": "code",
   "execution_count": 12,
   "id": "60cd9e31",
   "metadata": {},
   "outputs": [],
   "source": [
    "labels = []\n",
    "data = []\n",
    "imgs = listTest['Path'].values\n",
    "\n",
    "for i in range (n):\n",
    "    label = listTest.iloc[i]['ClassId']\n",
    "    image = cv2.imread('Data/' + listTest.iloc[i]['Path'])\n",
    "#     ảnh gốc\n",
    "    image = cv2.resize(image,(30,30))\n",
    "    data.append(np.array(image))\n",
    "    labels.append(np.array(label))\n",
    "#     ảnh lật trục x\n",
    "    flipImg = cv2.flip(image,0)\n",
    "    data.append(np.array(flipImg))\n",
    "    labels.append(np.array(label))\n",
    "#     xoay90 độ\n",
    "    rotate90Img = cv2.rotate(image,cv2.ROTATE_90_CLOCKWISE)\n",
    "    data.append(np.array(rotate90Img))\n",
    "    labels.append(np.array(label))\n",
    "\n",
    "X_test=np.array(data)\n",
    "Labels=np.array(labels)\n"
   ]
  },
  {
   "cell_type": "code",
   "execution_count": 14,
   "id": "a8cd83e2",
   "metadata": {},
   "outputs": [
    {
     "name": "stdout",
     "output_type": "stream",
     "text": [
      "(37890, 30, 30, 3) (37890,)\n"
     ]
    }
   ],
   "source": [
    "print(X_test.shape, Labels.shape)"
   ]
  },
  {
   "cell_type": "code",
   "execution_count": null,
   "id": "651309ef",
   "metadata": {},
   "outputs": [],
   "source": []
  }
 ],
 "metadata": {
  "kernelspec": {
   "display_name": "Python 3 (ipykernel)",
   "language": "python",
   "name": "python3"
  },
  "language_info": {
   "codemirror_mode": {
    "name": "ipython",
    "version": 3
   },
   "file_extension": ".py",
   "mimetype": "text/x-python",
   "name": "python",
   "nbconvert_exporter": "python",
   "pygments_lexer": "ipython3",
   "version": "3.10.9"
  }
 },
 "nbformat": 4,
 "nbformat_minor": 5
}
